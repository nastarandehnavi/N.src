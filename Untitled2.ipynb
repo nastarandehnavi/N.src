{
  "nbformat": 4,
  "nbformat_minor": 0,
  "metadata": {
    "colab": {
      "provenance": [],
      "gpuType": "T4",
      "toc_visible": true,
      "authorship_tag": "ABX9TyMExDs0sVs5VwcsNbWsk3Mm",
      "include_colab_link": true
    },
    "kernelspec": {
      "name": "python3",
      "display_name": "Python 3"
    },
    "language_info": {
      "name": "python"
    },
    "accelerator": "GPU"
  },
  "cells": [
    {
      "cell_type": "markdown",
      "metadata": {
        "id": "view-in-github",
        "colab_type": "text"
      },
      "source": [
        "<a href=\"https://colab.research.google.com/github/nastarandehnavi/N.src/blob/main/Untitled2.ipynb\" target=\"_parent\"><img src=\"https://colab.research.google.com/assets/colab-badge.svg\" alt=\"Open In Colab\"/></a>"
      ]
    },
    {
      "cell_type": "markdown",
      "source": [],
      "metadata": {
        "id": "JqUXuFEvycuM"
      }
    },
    {
      "cell_type": "markdown",
      "source": [
        "# **1. Dataset Initialization with Memory Management**"
      ],
      "metadata": {
        "id": "i3TTpdTWSwyO"
      }
    },
    {
      "cell_type": "code",
      "source": [
        "# Import libraries\n",
        "import pandas as pd\n",
        "import matplotlib.pyplot as plt\n",
        "import seaborn as sns\n",
        "import numpy as np\n",
        "from imblearn.over_sampling import SMOTE\n",
        "from sklearn.preprocessing import LabelEncoder\n",
        "\n",
        "\n",
        "\n",
        "\n",
        "# Load dataset with optimized memory\n",
        "dtype = {\n",
        "    'Gender': 'category',\n",
        "    'State': 'category',\n",
        "    'City': 'category',\n",
        "    'Account_Type': 'category',\n",
        "    'Transaction_Currency': 'category',\n",
        "    'Device_Type': 'category'\n",
        "}\n",
        "\n",
        "df = pd.read_csv(\n",
        "    'Bank_Transaction_Fraud_Detection.csv',\n",
        "    dtype=dtype,\n",
        "    parse_dates={'Transaction_Datetime': ['Transaction_Date', 'Transaction_Time']}\n",
        ")\n",
        "\n",
        "# Basic analysis\n",
        "print(\"Total Transactions:\", len(df))\n",
        "print(\"Fraud Percentage: {:.2f}%\".format(df['Is_Fraud'].mean() * 100))\n",
        "\n",
        "# Memory usage analysis\n",
        "print(\"\\nMemory Usage:\")\n",
        "print(df.info(memory_usage='deep'))"
      ],
      "metadata": {
        "colab": {
          "base_uri": "https://localhost:8080/"
        },
        "id": "NTwKQ4kZyh3i",
        "outputId": "7548d0e6-3e21-4e16-a847-85f1937f0fa3"
      },
      "execution_count": 11,
      "outputs": [
        {
          "output_type": "stream",
          "name": "stderr",
          "text": [
            "<ipython-input-11-e341dbbdfb91>:22: FutureWarning: Support for nested sequences for 'parse_dates' in pd.read_csv is deprecated. Combine the desired columns with pd.to_datetime after parsing instead.\n",
            "  df = pd.read_csv(\n",
            "<ipython-input-11-e341dbbdfb91>:22: UserWarning: Parsing dates in %d-%m-%Y %H:%M:%S format when dayfirst=False (the default) was specified. Pass `dayfirst=True` or specify a format to silence this warning.\n",
            "  df = pd.read_csv(\n"
          ]
        },
        {
          "output_type": "stream",
          "name": "stdout",
          "text": [
            "Total Transactions: 200000\n",
            "Fraud Percentage: 5.04%\n",
            "\n",
            "Memory Usage:\n",
            "<class 'pandas.core.frame.DataFrame'>\n",
            "RangeIndex: 200000 entries, 0 to 199999\n",
            "Data columns (total 23 columns):\n",
            " #   Column                   Non-Null Count   Dtype         \n",
            "---  ------                   --------------   -----         \n",
            " 0   Transaction_Datetime     200000 non-null  datetime64[ns]\n",
            " 1   Customer_ID              200000 non-null  object        \n",
            " 2   Customer_Name            200000 non-null  object        \n",
            " 3   Gender                   200000 non-null  category      \n",
            " 4   Age                      200000 non-null  int64         \n",
            " 5   State                    200000 non-null  category      \n",
            " 6   City                     200000 non-null  category      \n",
            " 7   Bank_Branch              200000 non-null  object        \n",
            " 8   Account_Type             200000 non-null  category      \n",
            " 9   Transaction_ID           200000 non-null  object        \n",
            " 10  Transaction_Amount       200000 non-null  float64       \n",
            " 11  Merchant_ID              200000 non-null  object        \n",
            " 12  Transaction_Type         200000 non-null  object        \n",
            " 13  Merchant_Category        200000 non-null  object        \n",
            " 14  Account_Balance          200000 non-null  float64       \n",
            " 15  Transaction_Device       200000 non-null  object        \n",
            " 16  Transaction_Location     200000 non-null  object        \n",
            " 17  Device_Type              200000 non-null  category      \n",
            " 18  Is_Fraud                 200000 non-null  int64         \n",
            " 19  Transaction_Currency     200000 non-null  category      \n",
            " 20  Customer_Contact         200000 non-null  object        \n",
            " 21  Transaction_Description  200000 non-null  object        \n",
            " 22  Customer_Email           200000 non-null  object        \n",
            "dtypes: category(6), datetime64[ns](1), float64(2), int64(2), object(12)\n",
            "memory usage: 185.2 MB\n",
            "None\n"
          ]
        }
      ]
    },
    {
      "cell_type": "markdown",
      "source": [
        "# 2. Removing Non-informative Columns for **Modeling**"
      ],
      "metadata": {
        "id": "2S-4jZVtzRsR"
      }
    },
    {
      "cell_type": "code",
      "source": [
        "cols_to_drop = [\n",
        "    'Customer_ID', 'Transaction_ID', 'Merchant_ID',\n",
        "    'Customer_Name', 'Customer_Email', 'Customer_Contact'\n",
        "]\n",
        "df_cleaned = df.drop(columns=cols_to_drop)\n",
        "\n",
        "print(\"Number of Columns:\", len(df_cleaned.columns))\n",
        "print(\"Remaining Columns:\")\n",
        "for col in df_cleaned.columns:\n",
        "    print(\"-\", col)"
      ],
      "metadata": {
        "colab": {
          "base_uri": "https://localhost:8080/"
        },
        "id": "1c5lUdQozSUH",
        "outputId": "ed2fd620-ff33-4183-840d-8e69261f802b"
      },
      "execution_count": 12,
      "outputs": [
        {
          "output_type": "stream",
          "name": "stdout",
          "text": [
            "Number of Columns: 17\n",
            "Remaining Columns:\n",
            "- Transaction_Datetime\n",
            "- Gender\n",
            "- Age\n",
            "- State\n",
            "- City\n",
            "- Bank_Branch\n",
            "- Account_Type\n",
            "- Transaction_Amount\n",
            "- Transaction_Type\n",
            "- Merchant_Category\n",
            "- Account_Balance\n",
            "- Transaction_Device\n",
            "- Transaction_Location\n",
            "- Device_Type\n",
            "- Is_Fraud\n",
            "- Transaction_Currency\n",
            "- Transaction_Description\n"
          ]
        }
      ]
    },
    {
      "cell_type": "markdown",
      "source": [
        "# **3. Detecting Missing Values in the Dataset**"
      ],
      "metadata": {
        "id": "D140pma7zaZA"
      }
    },
    {
      "cell_type": "code",
      "source": [
        "print(\"Missing Values in Columns\")\n",
        "print(df_cleaned.isnull().sum())"
      ],
      "metadata": {
        "colab": {
          "base_uri": "https://localhost:8080/"
        },
        "id": "OPY_xxOmzd9s",
        "outputId": "588f0e53-313f-4b8c-d3cb-966ee5ec6d13"
      },
      "execution_count": 13,
      "outputs": [
        {
          "output_type": "stream",
          "name": "stdout",
          "text": [
            "Missing Values in Columns\n",
            "Transaction_Datetime       0\n",
            "Gender                     0\n",
            "Age                        0\n",
            "State                      0\n",
            "City                       0\n",
            "Bank_Branch                0\n",
            "Account_Type               0\n",
            "Transaction_Amount         0\n",
            "Transaction_Type           0\n",
            "Merchant_Category          0\n",
            "Account_Balance            0\n",
            "Transaction_Device         0\n",
            "Transaction_Location       0\n",
            "Device_Type                0\n",
            "Is_Fraud                   0\n",
            "Transaction_Currency       0\n",
            "Transaction_Description    0\n",
            "dtype: int64\n"
          ]
        }
      ]
    },
    {
      "cell_type": "markdown",
      "source": [
        "# **4.Converting Text Columns to Categorical Data Type**"
      ],
      "metadata": {
        "id": "ynhBYDnCzvGt"
      }
    },
    {
      "cell_type": "code",
      "source": [
        "text_cols = ['Bank_Branch', 'Transaction_Type', 'Merchant_Category']\n",
        "df_cleaned[text_cols] = df_cleaned[text_cols].astype('category')\n",
        "\n",
        "print(\"Data type of columns after conversion:\")\n",
        "print(df_cleaned.dtypes)"
      ],
      "metadata": {
        "colab": {
          "base_uri": "https://localhost:8080/"
        },
        "id": "XGk1UBEazvh0",
        "outputId": "02338009-4742-4e82-891f-af9fef13d2f8"
      },
      "execution_count": 14,
      "outputs": [
        {
          "output_type": "stream",
          "name": "stdout",
          "text": [
            "Data type of columns after conversion:\n",
            "Transaction_Datetime       datetime64[ns]\n",
            "Gender                           category\n",
            "Age                                 int64\n",
            "State                            category\n",
            "City                             category\n",
            "Bank_Branch                      category\n",
            "Account_Type                     category\n",
            "Transaction_Amount                float64\n",
            "Transaction_Type                 category\n",
            "Merchant_Category                category\n",
            "Account_Balance                   float64\n",
            "Transaction_Device                 object\n",
            "Transaction_Location               object\n",
            "Device_Type                      category\n",
            "Is_Fraud                            int64\n",
            "Transaction_Currency             category\n",
            "Transaction_Description            object\n",
            "dtype: object\n"
          ]
        }
      ]
    },
    {
      "cell_type": "markdown",
      "source": [
        "# **5. Extracting and Replacing Transaction Datetime with Time-Based Features**"
      ],
      "metadata": {
        "id": "yIMiXVv70AKq"
      }
    },
    {
      "cell_type": "code",
      "source": [
        "# Extract time-based features from Transaction_Datetime\n",
        "df_cleaned['Hour'] = df_cleaned['Transaction_Datetime'].dt.hour\n",
        "df_cleaned['DayOfWeek'] = df_cleaned['Transaction_Datetime'].dt.dayofweek  # 0 = Monday, 6 = Sunday\n",
        "df_cleaned['Month'] = df_cleaned['Transaction_Datetime'].dt.month\n",
        "\n",
        "# Display a sample of the extracted time features alongside the original datetime\n",
        "print(\"Sample of extracted time features:\")\n",
        "print(df_cleaned[['Transaction_Datetime', 'Hour', 'DayOfWeek', 'Month']].head())\n",
        "\n",
        "# drop the original datetime column after feature extraction\n",
        "df_cleaned = df_cleaned.drop(columns=['Transaction_Datetime'])\n",
        "\n"
      ],
      "metadata": {
        "id": "nFKyD81dtFn0",
        "colab": {
          "base_uri": "https://localhost:8080/"
        },
        "outputId": "997ef1c9-530d-4219-e4df-af1626bfb0dd"
      },
      "execution_count": 15,
      "outputs": [
        {
          "output_type": "stream",
          "name": "stdout",
          "text": [
            "Sample of extracted time features:\n",
            "  Transaction_Datetime  Hour  DayOfWeek  Month\n",
            "0  2025-01-23 16:04:07    16          3      1\n",
            "1  2025-01-11 17:14:53    17          5      1\n",
            "2  2025-01-25 03:09:52     3          5      1\n",
            "3  2025-01-19 12:27:02    12          6      1\n",
            "4  2025-01-30 18:30:46    18          3      1\n"
          ]
        }
      ]
    },
    {
      "cell_type": "markdown",
      "source": [
        "# **6. Preprocessing and Encoding Categorical Features**"
      ],
      "metadata": {
        "id": "L6n-Cb1w6Izp"
      }
    },
    {
      "cell_type": "code",
      "source": [
        "from sklearn.preprocessing import OneHotEncoder, LabelEncoder\n",
        "import pandas as pd\n",
        "\n",
        "# 1. OneHot encode suitable categorical columns\n",
        "onehot_cols = ['Gender', 'Account_Type', 'Transaction_Type', 'Device_Type']\n",
        "df_cleaned = pd.get_dummies(df_cleaned, columns=onehot_cols, drop_first=True)\n",
        "\n",
        "# 2. Label encode high cardinality columns\n",
        "label_cols = ['City', 'State', 'Transaction_Device', 'Merchant_Category', 'Transaction_Currency']\n",
        "for col in label_cols:\n",
        "    le = LabelEncoder()\n",
        "    df_cleaned[col] = le.fit_transform(df_cleaned[col].astype(str))\n"
      ],
      "metadata": {
        "id": "JkBnVkBstPJp"
      },
      "execution_count": 16,
      "outputs": []
    },
    {
      "cell_type": "markdown",
      "source": [
        "# **7. Install imbalanced-learn**"
      ],
      "metadata": {
        "id": "ixTok-ym0K-z"
      }
    },
    {
      "cell_type": "code",
      "source": [
        "# Install imbalanced-learn\n",
        "!pip install imbalanced-learn"
      ],
      "metadata": {
        "colab": {
          "base_uri": "https://localhost:8080/"
        },
        "id": "299UFGBq2CsT",
        "outputId": "31c79abc-0aa6-4e55-ed7e-ba6bf0468965"
      },
      "execution_count": 17,
      "outputs": [
        {
          "output_type": "stream",
          "name": "stdout",
          "text": [
            "Requirement already satisfied: imbalanced-learn in /usr/local/lib/python3.11/dist-packages (0.13.0)\n",
            "Requirement already satisfied: numpy<3,>=1.24.3 in /usr/local/lib/python3.11/dist-packages (from imbalanced-learn) (2.0.2)\n",
            "Requirement already satisfied: scipy<2,>=1.10.1 in /usr/local/lib/python3.11/dist-packages (from imbalanced-learn) (1.14.1)\n",
            "Requirement already satisfied: scikit-learn<2,>=1.3.2 in /usr/local/lib/python3.11/dist-packages (from imbalanced-learn) (1.6.1)\n",
            "Requirement already satisfied: sklearn-compat<1,>=0.1 in /usr/local/lib/python3.11/dist-packages (from imbalanced-learn) (0.1.3)\n",
            "Requirement already satisfied: joblib<2,>=1.1.1 in /usr/local/lib/python3.11/dist-packages (from imbalanced-learn) (1.4.2)\n",
            "Requirement already satisfied: threadpoolctl<4,>=2.0.0 in /usr/local/lib/python3.11/dist-packages (from imbalanced-learn) (3.6.0)\n"
          ]
        }
      ]
    },
    {
      "cell_type": "markdown",
      "source": [],
      "metadata": {
        "id": "_Kyq69Mc3y9U"
      }
    },
    {
      "cell_type": "markdown",
      "source": [
        "# **8.Feature-target separation, encoding, and handling class imbalance using SMOTE**"
      ],
      "metadata": {
        "id": "bkjI4rWHJxVB"
      }
    },
    {
      "cell_type": "code",
      "source": [
        "# X: All columns except the target column ('Is_Fraud')\n",
        "# y: Only the target column ('Is_Fraud')\n",
        "X = df_cleaned.drop(columns=['Is_Fraud'])\n",
        "y = df_cleaned['Is_Fraud']\n",
        "\n",
        "# Encode any remaining non-numeric columns before applying SMOTE\n",
        "from sklearn.preprocessing import LabelEncoder\n",
        "cat_cols = X.select_dtypes(include=['object', 'category']).columns\n",
        "for col in cat_cols:\n",
        "    X[col] = LabelEncoder().fit_transform(X[col].astype(str))\n",
        "\n",
        "# Apply SMOTE to balance the dataset\n",
        "from imblearn.over_sampling import SMOTE\n",
        "smote = SMOTE(random_state=42)\n",
        "X_resampled, y_resampled = smote.fit_resample(X, y)\n"
      ],
      "metadata": {
        "id": "5r4CdF-i30bX"
      },
      "execution_count": 28,
      "outputs": []
    },
    {
      "cell_type": "code",
      "source": [
        "non_numeric = X.select_dtypes(exclude=['int64', 'float64']).columns\n",
        "print(\"ستون‌های غیرعددی باقی‌مانده:\", non_numeric)"
      ],
      "metadata": {
        "colab": {
          "base_uri": "https://localhost:8080/"
        },
        "id": "yuexPPthuJaa",
        "outputId": "7b1ba24c-81fb-4474-ed52-9ece9543b4e0"
      },
      "execution_count": 29,
      "outputs": [
        {
          "output_type": "stream",
          "name": "stdout",
          "text": [
            "ستون‌های غیرعددی باقی‌مانده: Index(['Hour', 'DayOfWeek', 'Month', 'Gender_Male', 'Account_Type_Checking',\n",
            "       'Account_Type_Savings', 'Transaction_Type_Credit',\n",
            "       'Transaction_Type_Debit', 'Transaction_Type_Transfer',\n",
            "       'Transaction_Type_Withdrawal', 'Device_Type_Desktop',\n",
            "       'Device_Type_Mobile', 'Device_Type_POS'],\n",
            "      dtype='object')\n"
          ]
        }
      ]
    },
    {
      "cell_type": "code",
      "source": [
        "from sklearn.preprocessing import LabelEncoder\n",
        "\n",
        "text_cols = ['Bank_Branch', 'Transaction_Location', 'Transaction_Description']\n",
        "for col in text_cols:\n",
        "    le = LabelEncoder()\n",
        "    X[col] = le.fit_transform(X[col].astype(str))"
      ],
      "metadata": {
        "id": "PHX1OeOOu3B_"
      },
      "execution_count": 32,
      "outputs": []
    },
    {
      "cell_type": "code",
      "source": [
        "print(\"\\nبررسی نهایی نوع داده‌ها:\")\n",
        "print(X.dtypes)"
      ],
      "metadata": {
        "colab": {
          "base_uri": "https://localhost:8080/"
        },
        "id": "iLwFtXPLvA0X",
        "outputId": "e5498069-7ca8-4f57-90b7-c7044d8cbaac"
      },
      "execution_count": 34,
      "outputs": [
        {
          "output_type": "stream",
          "name": "stdout",
          "text": [
            "\n",
            "بررسی نهایی نوع داده‌ها:\n",
            "Age                              int64\n",
            "State                            int64\n",
            "City                             int64\n",
            "Bank_Branch                      int64\n",
            "Transaction_Amount             float64\n",
            "Merchant_Category                int64\n",
            "Account_Balance                float64\n",
            "Transaction_Device               int64\n",
            "Transaction_Location             int64\n",
            "Transaction_Currency             int64\n",
            "Transaction_Description          int64\n",
            "Hour                             int32\n",
            "DayOfWeek                        int32\n",
            "Month                            int32\n",
            "Gender_Male                       bool\n",
            "Account_Type_Checking             bool\n",
            "Account_Type_Savings              bool\n",
            "Transaction_Type_Credit           bool\n",
            "Transaction_Type_Debit            bool\n",
            "Transaction_Type_Transfer         bool\n",
            "Transaction_Type_Withdrawal       bool\n",
            "Device_Type_Desktop               bool\n",
            "Device_Type_Mobile                bool\n",
            "Device_Type_POS                   bool\n",
            "dtype: object\n"
          ]
        }
      ]
    },
    {
      "cell_type": "code",
      "source": [
        "from imblearn.over_sampling import SMOTE\n",
        "\n",
        "smote = SMOTE(random_state=42)\n",
        "X_res, y_res = smote.fit_resample(X, y)\n",
        "\n",
        "print(\"\\n✅ توزیع جدید کلاس‌ها:\")\n",
        "print(y_res.value_counts())"
      ],
      "metadata": {
        "colab": {
          "base_uri": "https://localhost:8080/"
        },
        "id": "_HkBg1XovHhk",
        "outputId": "dd0a23d9-c206-40ef-8163-2035841ea320"
      },
      "execution_count": 35,
      "outputs": [
        {
          "output_type": "stream",
          "name": "stdout",
          "text": [
            "\n",
            "✅ توزیع جدید کلاس‌ها:\n",
            "Is_Fraud\n",
            "0    189912\n",
            "1    189912\n",
            "Name: count, dtype: int64\n"
          ]
        }
      ]
    },
    {
      "cell_type": "code",
      "source": [
        "from sklearn.model_selection import train_test_split\n",
        "\n",
        "# تقسیم داده‌ها به 80% آموزش و 20% آزمون\n",
        "X_train, X_test, y_train, y_test = train_test_split(X_res, y_res, test_size=0.2, random_state=42)\n",
        "\n",
        "print(\"اندازه مجموعه آموزش:\", X_train.shape)\n",
        "print(\"اندازه مجموعه آزمون:\", X_test.shape)"
      ],
      "metadata": {
        "colab": {
          "base_uri": "https://localhost:8080/"
        },
        "id": "bVVhv96JwULy",
        "outputId": "4b3e5671-eaa6-447e-d2f3-93379ccaf197"
      },
      "execution_count": 36,
      "outputs": [
        {
          "output_type": "stream",
          "name": "stdout",
          "text": [
            "اندازه مجموعه آموزش: (303859, 24)\n",
            "اندازه مجموعه آزمون: (75965, 24)\n"
          ]
        }
      ]
    },
    {
      "cell_type": "markdown",
      "source": [
        "Desicion Tree"
      ],
      "metadata": {
        "id": "3z2F9nIl93to"
      }
    },
    {
      "cell_type": "code",
      "source": [
        "from sklearn.tree import DecisionTreeClassifier\n",
        "from sklearn.metrics import classification_report\n",
        "\n",
        "# ۱. تعریف مدل\n",
        "dt_model = DecisionTreeClassifier(\n",
        "    max_depth=5,          # کنترل عمق برای جلوگیری از overfitting\n",
        "    random_state=42\n",
        ")\n",
        "\n",
        "# ۲. آموزش مدل\n",
        "dt_model.fit(X_train, y_train)\n",
        "\n",
        "# ۳. ارزیابی\n",
        "y_pred_dt = dt_model.predict(X_test)\n",
        "print(\"ارزیابی Decision Tree:\\n\", classification_report(y_test, y_pred_dt))"
      ],
      "metadata": {
        "colab": {
          "base_uri": "https://localhost:8080/"
        },
        "id": "4m-xC6iW93Tq",
        "outputId": "c387188b-02e1-4617-ad96-0efc1a704387"
      },
      "execution_count": 37,
      "outputs": [
        {
          "output_type": "stream",
          "name": "stdout",
          "text": [
            "ارزیابی Decision Tree:\n",
            "               precision    recall  f1-score   support\n",
            "\n",
            "           0       0.71      0.76      0.73     38055\n",
            "           1       0.74      0.69      0.71     37910\n",
            "\n",
            "    accuracy                           0.72     75965\n",
            "   macro avg       0.73      0.72      0.72     75965\n",
            "weighted avg       0.73      0.72      0.72     75965\n",
            "\n"
          ]
        }
      ]
    },
    {
      "cell_type": "markdown",
      "source": [
        "knn"
      ],
      "metadata": {
        "id": "sZOAVHu2-JHf"
      }
    },
    {
      "cell_type": "code",
      "source": [
        "from sklearn.neighbors import KNeighborsClassifier\n",
        "\n",
        "# ۱. تعریف مدل (با ۵ همسایه)\n",
        "knn_model = KNeighborsClassifier(\n",
        "    n_neighbors=5,\n",
        "    metric='euclidean'\n",
        ")\n",
        "\n",
        "# ۲. آموزش مدل\n",
        "knn_model.fit(X_train, y_train)\n",
        "\n",
        "# ۳. ارزیابی\n",
        "y_pred_knn = knn_model.predict(X_test)\n",
        "print(\"ارزیابی KNN:\\n\", classification_report(y_test, y_pred_knn))"
      ],
      "metadata": {
        "colab": {
          "base_uri": "https://localhost:8080/"
        },
        "id": "MTRJ8aB2-LOA",
        "outputId": "984c044c-f5b0-4a0e-cedf-77ec90c4e914"
      },
      "execution_count": 38,
      "outputs": [
        {
          "output_type": "stream",
          "name": "stdout",
          "text": [
            "ارزیابی KNN:\n",
            "               precision    recall  f1-score   support\n",
            "\n",
            "           0       0.87      0.68      0.76     38055\n",
            "           1       0.73      0.90      0.81     37910\n",
            "\n",
            "    accuracy                           0.79     75965\n",
            "   macro avg       0.80      0.79      0.78     75965\n",
            "weighted avg       0.80      0.79      0.78     75965\n",
            "\n"
          ]
        }
      ]
    },
    {
      "cell_type": "code",
      "source": [
        "SVM\n"
      ],
      "metadata": {
        "id": "DQfQHLiBXfd8"
      },
      "execution_count": null,
      "outputs": []
    },
    {
      "cell_type": "code",
      "source": [
        "from sklearn.svm import SVC\n",
        "from sklearn.metrics import classification_report\n",
        "import time\n",
        "\n",
        "# 1. تنظیمات بهینه‌شده مدل\n",
        "svm_model = SVC(\n",
        "    kernel='rbf',\n",
        "    class_weight='balanced',\n",
        "    random_state=42,\n",
        "    gamma='scale',  # تنظیم خودکار gamma برای جلوگیری از overfitting\n",
        "    cache_size=1000,  # افزایش حافظه کش (MB)\n",
        "    max_iter=500,     # محدودیت تعداد تکرارها\n",
        "    verbose=True      # نمایش پیشرفت آموزش\n",
        ")\n",
        "\n",
        "# 2. آموزش با زمان‌سنجی\n",
        "print(\"آموزش SVM با تنظیمات بهینه آغاز شد...\")\n",
        "start_time = time.time()\n",
        "\n",
        "svm_model.fit(X_train, y_train)\n",
        "\n",
        "end_time = time.time()\n",
        "print(f\"آموزش در {end_time - start_time:.2f} ثانیه تکمیل شد\")\n",
        "\n",
        "# 3. ارزیابی\n",
        "y_pred_svm = svm_model.predict(X_test)\n",
        "print(\"نتایج نهایی:\\n\", classification_report(y_test, y_pred_svm))"
      ],
      "metadata": {
        "colab": {
          "base_uri": "https://localhost:8080/"
        },
        "id": "S7PaXq2rXhQD",
        "outputId": "be0c62a2-387f-4f6b-fd05-2db8496f844d"
      },
      "execution_count": 39,
      "outputs": [
        {
          "output_type": "stream",
          "name": "stdout",
          "text": [
            "آموزش SVM با تنظیمات بهینه آغاز شد...\n",
            "[LibSVM]"
          ]
        },
        {
          "output_type": "stream",
          "name": "stderr",
          "text": [
            "/usr/local/lib/python3.11/dist-packages/sklearn/svm/_base.py:305: ConvergenceWarning: Solver terminated early (max_iter=500).  Consider pre-processing your data with StandardScaler or MinMaxScaler.\n",
            "  warnings.warn(\n"
          ]
        },
        {
          "output_type": "stream",
          "name": "stdout",
          "text": [
            "آموزش در 23.75 ثانیه تکمیل شد\n",
            "نتایج نهایی:\n",
            "               precision    recall  f1-score   support\n",
            "\n",
            "           0       0.50      1.00      0.67     38055\n",
            "           1       0.00      0.00      0.00     37910\n",
            "\n",
            "    accuracy                           0.50     75965\n",
            "   macro avg       0.25      0.50      0.33     75965\n",
            "weighted avg       0.25      0.50      0.33     75965\n",
            "\n"
          ]
        },
        {
          "output_type": "stream",
          "name": "stderr",
          "text": [
            "/usr/local/lib/python3.11/dist-packages/sklearn/metrics/_classification.py:1565: UndefinedMetricWarning: Precision is ill-defined and being set to 0.0 in labels with no predicted samples. Use `zero_division` parameter to control this behavior.\n",
            "  _warn_prf(average, modifier, f\"{metric.capitalize()} is\", len(result))\n",
            "/usr/local/lib/python3.11/dist-packages/sklearn/metrics/_classification.py:1565: UndefinedMetricWarning: Precision is ill-defined and being set to 0.0 in labels with no predicted samples. Use `zero_division` parameter to control this behavior.\n",
            "  _warn_prf(average, modifier, f\"{metric.capitalize()} is\", len(result))\n",
            "/usr/local/lib/python3.11/dist-packages/sklearn/metrics/_classification.py:1565: UndefinedMetricWarning: Precision is ill-defined and being set to 0.0 in labels with no predicted samples. Use `zero_division` parameter to control this behavior.\n",
            "  _warn_prf(average, modifier, f\"{metric.capitalize()} is\", len(result))\n"
          ]
        }
      ]
    },
    {
      "cell_type": "code",
      "source": [
        "from sklearn.ensemble import RandomForestClassifier\n",
        "from sklearn.metrics import classification_report\n",
        "\n",
        "# ایجاد و آموزش مدل\n",
        "rf_model = RandomForestClassifier(\n",
        "    n_estimators=100,\n",
        "    class_weight='balanced',\n",
        "    random_state=42,\n",
        "    n_jobs=-1  # استفاده از تمام هسته‌های پردازنده\n",
        ")\n",
        "\n",
        "rf_model.fit(X_train, y_train)\n",
        "\n",
        "# پیش‌بینی روی داده آزمون\n",
        "y_pred = rf_model.predict(X_test)\n",
        "\n",
        "# نمایش نتایج\n",
        "print(\"نتایج ارزیابی مدل Random Forest:\\n\")\n",
        "print(classification_report(y_test, y_pred))"
      ],
      "metadata": {
        "colab": {
          "base_uri": "https://localhost:8080/"
        },
        "id": "9DFoZUqtw8pF",
        "outputId": "d971c292-ced4-424b-bae6-ff2e2685fdbd"
      },
      "execution_count": 40,
      "outputs": [
        {
          "output_type": "stream",
          "name": "stdout",
          "text": [
            "نتایج ارزیابی مدل Random Forest:\n",
            "\n",
            "              precision    recall  f1-score   support\n",
            "\n",
            "           0       0.93      0.99      0.96     38055\n",
            "           1       0.99      0.92      0.95     37910\n",
            "\n",
            "    accuracy                           0.96     75965\n",
            "   macro avg       0.96      0.96      0.96     75965\n",
            "weighted avg       0.96      0.96      0.96     75965\n",
            "\n"
          ]
        }
      ]
    },
    {
      "cell_type": "code",
      "source": [
        "import joblib\n",
        "joblib.dump(rf_model, 'fraud_detection_rf_model.pkl')"
      ],
      "metadata": {
        "colab": {
          "base_uri": "https://localhost:8080/"
        },
        "id": "rVlsRehoEqeY",
        "outputId": "658a538e-79fe-4e8c-c15b-65a7b2838a11"
      },
      "execution_count": 42,
      "outputs": [
        {
          "output_type": "execute_result",
          "data": {
            "text/plain": [
              "['fraud_detection_rf_model.pkl']"
            ]
          },
          "metadata": {},
          "execution_count": 42
        }
      ]
    },
    {
      "cell_type": "code",
      "source": [
        "!pip install xgboost --upgrade  # اطمینان از آخرین نسخه\n",
        "import xgboost as xgb\n",
        "from sklearn.metrics import classification_report, confusion_matrix\n",
        "import time"
      ],
      "metadata": {
        "colab": {
          "base_uri": "https://localhost:8080/"
        },
        "id": "U9l2FYvbYmU2",
        "outputId": "2185da5f-b1e4-47cf-9439-b6027d2be9e1"
      },
      "execution_count": 43,
      "outputs": [
        {
          "output_type": "stream",
          "name": "stdout",
          "text": [
            "Requirement already satisfied: xgboost in /usr/local/lib/python3.11/dist-packages (2.1.4)\n",
            "Collecting xgboost\n",
            "  Using cached xgboost-3.0.0-py3-none-manylinux_2_28_x86_64.whl.metadata (2.1 kB)\n",
            "Requirement already satisfied: numpy in /usr/local/lib/python3.11/dist-packages (from xgboost) (2.0.2)\n",
            "Requirement already satisfied: nvidia-nccl-cu12 in /usr/local/lib/python3.11/dist-packages (from xgboost) (2.21.5)\n",
            "Requirement already satisfied: scipy in /usr/local/lib/python3.11/dist-packages (from xgboost) (1.14.1)\n",
            "Downloading xgboost-3.0.0-py3-none-manylinux_2_28_x86_64.whl (253.9 MB)\n",
            "\u001b[2K   \u001b[90m━━━━━━━━━━━━━━━━━━━━━━━━━━━━━━━━━━━━━━━━\u001b[0m \u001b[32m253.9/253.9 MB\u001b[0m \u001b[31m3.3 MB/s\u001b[0m eta \u001b[36m0:00:00\u001b[0m\n",
            "\u001b[?25hInstalling collected packages: xgboost\n",
            "  Attempting uninstall: xgboost\n",
            "    Found existing installation: xgboost 2.1.4\n",
            "    Uninstalling xgboost-2.1.4:\n",
            "      Successfully uninstalled xgboost-2.1.4\n",
            "Successfully installed xgboost-3.0.0\n"
          ]
        }
      ]
    },
    {
      "cell_type": "code",
      "source": [
        "# پارامترهای پیشنهادی برای داده‌های تقلب:\n",
        "xgb_params = {\n",
        "    'objective': 'binary:logistic',\n",
        "    'eval_metric': 'aucpr',  # معیار مناسب برای داده‌های نامتوازن\n",
        "    'scale_pos_weight': len(y_train[y_train==0])/len(y_train[y_train==1]),  # مدیریت عدم تعادل\n",
        "    'max_depth': 6,          # جلوگیری از overfitting\n",
        "    'learning_rate': 0.1,\n",
        "    'subsample': 0.8,\n",
        "    'colsample_bytree': 0.8,\n",
        "    'random_state': 42,\n",
        "    'n_jobs': -1            # استفاده از تمام هسته‌ها\n",
        "}\n",
        "\n",
        "# تبدیل داده به فرمت DMatrix (بهینه برای XGBoost)\n",
        "dtrain = xgb.DMatrix(X_train, label=y_train)\n",
        "dtest = xgb.DMatrix(X_test, label=y_test)\n",
        "\n",
        "# آموزش با زمان‌سنجی\n",
        "start_time = time.time()\n",
        "xgb_model = xgb.train(xgb_params, dtrain, num_boost_round=100)\n",
        "print(f\"زمان آموزش: {time.time() - start_time:.2f} ثانیه\")"
      ],
      "metadata": {
        "colab": {
          "base_uri": "https://localhost:8080/"
        },
        "id": "hNwoPzAPY8Ky",
        "outputId": "0c3c619f-540b-4459-8ce4-39f7f37412e2"
      },
      "execution_count": 44,
      "outputs": [
        {
          "output_type": "stream",
          "name": "stdout",
          "text": [
            "زمان آموزش: 24.54 ثانیه\n"
          ]
        }
      ]
    },
    {
      "cell_type": "code",
      "source": [
        "# پیش‌بینی احتمالات\n",
        "y_proba = xgb_model.predict(dtest)\n",
        "y_pred = (y_proba > 0.5).astype(int)  # آستانه 0.5\n",
        "\n",
        "# گزارش کامل\n",
        "print(\"نتایج XGBoost:\\n\", classification_report(y_test, y_pred))\n",
        "print(\"ماتریس اشتباه:\\n\", confusion_matrix(y_test, y_pred))"
      ],
      "metadata": {
        "colab": {
          "base_uri": "https://localhost:8080/"
        },
        "id": "j6kqXB_hZAL6",
        "outputId": "978dd472-47fa-4369-cc59-0b48e2bba6f7"
      },
      "execution_count": 45,
      "outputs": [
        {
          "output_type": "stream",
          "name": "stdout",
          "text": [
            "نتایج XGBoost:\n",
            "               precision    recall  f1-score   support\n",
            "\n",
            "           0       0.89      0.99      0.94     38055\n",
            "           1       0.99      0.87      0.93     37910\n",
            "\n",
            "    accuracy                           0.93     75965\n",
            "   macro avg       0.94      0.93      0.93     75965\n",
            "weighted avg       0.94      0.93      0.93     75965\n",
            "\n",
            "ماتریس اشتباه:\n",
            " [[37733   322]\n",
            " [ 4897 33013]]\n"
          ]
        }
      ]
    },
    {
      "cell_type": "code",
      "source": [
        "xgb_model.save_model('xgb_fraud_model.json')  # ذخیره به فرمت JSON"
      ],
      "metadata": {
        "id": "4-a8Bdk2ZKuZ"
      },
      "execution_count": 47,
      "outputs": []
    },
    {
      "cell_type": "code",
      "source": [
        "xgb.plot_importance(xgb_model, max_num_features=15)\n",
        "plt.show()"
      ],
      "metadata": {
        "colab": {
          "base_uri": "https://localhost:8080/",
          "height": 472
        },
        "id": "IR-K-ApPZUgX",
        "outputId": "372720c2-a228-41a0-abb9-bfc9047388d3"
      },
      "execution_count": 48,
      "outputs": [
        {
          "output_type": "display_data",
          "data": {
            "text/plain": [
              "<Figure size 640x480 with 1 Axes>"
            ],
            "image/png": "[encoded data removed]"
          },
          "metadata": {}
        }
      ]
    },
    {
      "cell_type": "code",
      "source": [
        "y_pred_high_recall = (y_proba > 0.3).astype(int)  # آستانه 0.3"
      ],
      "metadata": {
        "id": "oZLf2cBxZair"
      },
      "execution_count": 46,
      "outputs": []
    },
    {
      "cell_type": "code",
      "source": [
        "from sklearn.preprocessing import StandardScaler\n",
        "\n",
        "# استانداردسازی داده‌ها (ضروری برای شبکه عصبی)\n",
        "scaler = StandardScaler()\n",
        "X_train_scaled = scaler.fit_transform(X_train)\n",
        "X_test_scaled = scaler.transform(X_test)"
      ],
      "metadata": {
        "id": "3BgpoOY4Z2YT"
      },
      "execution_count": 49,
      "outputs": []
    },
    {
      "cell_type": "code",
      "source": [
        "from tensorflow.keras.models import Sequential\n",
        "from tensorflow.keras.layers import Dense, Dropout\n",
        "from tensorflow.keras.optimizers import Adam\n",
        "\n",
        "model = Sequential([\n",
        "    Dense(64, activation='relu', input_shape=(X_train_scaled.shape[1],)),  # لایه ورودی\n",
        "    Dropout(0.5),  # جلوگیری از overfitting\n",
        "    Dense(32, activation='relu'),\n",
        "    Dense(1, activation='sigmoid')  # خروجی باینری\n",
        "])\n",
        "\n",
        "# کامپایل مدل\n",
        "model.compile(\n",
        "    optimizer=Adam(learning_rate=0.001),\n",
        "    loss='binary_crossentropy',\n",
        "    metrics=['Recall']  # تمرکز روی شناسایی تقلب\n",
        ")\n",
        "\n",
        "model.summary()"
      ],
      "metadata": {
        "colab": {
          "base_uri": "https://localhost:8080/",
          "height": 319
        },
        "id": "tabDvKmvZ6ti",
        "outputId": "ca4ee753-82f3-478a-fd55-0858dc25d551"
      },
      "execution_count": 50,
      "outputs": [
        {
          "output_type": "stream",
          "name": "stderr",
          "text": [
            "/usr/local/lib/python3.11/dist-packages/keras/src/layers/core/dense.py:87: UserWarning: Do not pass an `input_shape`/`input_dim` argument to a layer. When using Sequential models, prefer using an `Input(shape)` object as the first layer in the model instead.\n",
            "  super().__init__(activity_regularizer=activity_regularizer, **kwargs)\n"
          ]
        },
        {
          "output_type": "display_data",
          "data": {
            "text/plain": [
              "\u001b[1mModel: \"sequential\"\u001b[0m\n"
            ],
            "text/html": [
              "<pre style=\"white-space:pre;overflow-x:auto;line-height:normal;font-family:Menlo,'DejaVu Sans Mono',consolas,'Courier New',monospace\"><span style=\"font-weight: bold\">Model: \"sequential\"</span>\n",
              "</pre>\n"
            ]
          },
          "metadata": {}
        },
        {
          "output_type": "display_data",
          "data": {
            "text/plain": [
              "┏━━━━━━━━━━━━━━━━━━━━━━━━━━━━━━━━━┳━━━━━━━━━━━━━━━━━━━━━━━━┳━━━━━━━━━━━━━━━┓\n",
              "┃\u001b[1m \u001b[0m\u001b[1mLayer (type)                   \u001b[0m\u001b[1m \u001b[0m┃\u001b[1m \u001b[0m\u001b[1mOutput Shape          \u001b[0m\u001b[1m \u001b[0m┃\u001b[1m \u001b[0m\u001b[1m      Param #\u001b[0m\u001b[1m \u001b[0m┃\n",
              "┡━━━━━━━━━━━━━━━━━━━━━━━━━━━━━━━━━╇━━━━━━━━━━━━━━━━━━━━━━━━╇━━━━━━━━━━━━━━━┩\n",
              "│ dense (\u001b[38;5;33mDense\u001b[0m)                   │ (\u001b[38;5;45mNone\u001b[0m, \u001b[38;5;34m64\u001b[0m)             │         \u001b[38;5;34m1,600\u001b[0m │\n",
              "├─────────────────────────────────┼────────────────────────┼───────────────┤\n",
              "│ dropout (\u001b[38;5;33mDropout\u001b[0m)               │ (\u001b[38;5;45mNone\u001b[0m, \u001b[38;5;34m64\u001b[0m)             │             \u001b[38;5;34m0\u001b[0m │\n",
              "├─────────────────────────────────┼────────────────────────┼───────────────┤\n",
              "│ dense_1 (\u001b[38;5;33mDense\u001b[0m)                 │ (\u001b[38;5;45mNone\u001b[0m, \u001b[38;5;34m32\u001b[0m)             │         \u001b[38;5;34m2,080\u001b[0m │\n",
              "├─────────────────────────────────┼────────────────────────┼───────────────┤\n",
              "│ dense_2 (\u001b[38;5;33mDense\u001b[0m)                 │ (\u001b[38;5;45mNone\u001b[0m, \u001b[38;5;34m1\u001b[0m)              │            \u001b[38;5;34m33\u001b[0m │\n",
              "└─────────────────────────────────┴────────────────────────┴───────────────┘\n"
            ],
            "text/html": [
              "<pre style=\"white-space:pre;overflow-x:auto;line-height:normal;font-family:Menlo,'DejaVu Sans Mono',consolas,'Courier New',monospace\">┏━━━━━━━━━━━━━━━━━━━━━━━━━━━━━━━━━┳━━━━━━━━━━━━━━━━━━━━━━━━┳━━━━━━━━━━━━━━━┓\n",
              "┃<span style=\"font-weight: bold\"> Layer (type)                    </span>┃<span style=\"font-weight: bold\"> Output Shape           </span>┃<span style=\"font-weight: bold\">       Param # </span>┃\n",
              "┡━━━━━━━━━━━━━━━━━━━━━━━━━━━━━━━━━╇━━━━━━━━━━━━━━━━━━━━━━━━╇━━━━━━━━━━━━━━━┩\n",
              "│ dense (<span style=\"color: #0087ff; text-decoration-color: #0087ff\">Dense</span>)                   │ (<span style=\"color: #00d7ff; text-decoration-color: #00d7ff\">None</span>, <span style=\"color: #00af00; text-decoration-color: #00af00\">64</span>)             │         <span style=\"color: #00af00; text-decoration-color: #00af00\">1,600</span> │\n",
              "├─────────────────────────────────┼────────────────────────┼───────────────┤\n",
              "│ dropout (<span style=\"color: #0087ff; text-decoration-color: #0087ff\">Dropout</span>)               │ (<span style=\"color: #00d7ff; text-decoration-color: #00d7ff\">None</span>, <span style=\"color: #00af00; text-decoration-color: #00af00\">64</span>)             │             <span style=\"color: #00af00; text-decoration-color: #00af00\">0</span> │\n",
              "├─────────────────────────────────┼────────────────────────┼───────────────┤\n",
              "│ dense_1 (<span style=\"color: #0087ff; text-decoration-color: #0087ff\">Dense</span>)                 │ (<span style=\"color: #00d7ff; text-decoration-color: #00d7ff\">None</span>, <span style=\"color: #00af00; text-decoration-color: #00af00\">32</span>)             │         <span style=\"color: #00af00; text-decoration-color: #00af00\">2,080</span> │\n",
              "├─────────────────────────────────┼────────────────────────┼───────────────┤\n",
              "│ dense_2 (<span style=\"color: #0087ff; text-decoration-color: #0087ff\">Dense</span>)                 │ (<span style=\"color: #00d7ff; text-decoration-color: #00d7ff\">None</span>, <span style=\"color: #00af00; text-decoration-color: #00af00\">1</span>)              │            <span style=\"color: #00af00; text-decoration-color: #00af00\">33</span> │\n",
              "└─────────────────────────────────┴────────────────────────┴───────────────┘\n",
              "</pre>\n"
            ]
          },
          "metadata": {}
        },
        {
          "output_type": "display_data",
          "data": {
            "text/plain": [
              "\u001b[1m Total params: \u001b[0m\u001b[38;5;34m3,713\u001b[0m (14.50 KB)\n"
            ],
            "text/html": [
              "<pre style=\"white-space:pre;overflow-x:auto;line-height:normal;font-family:Menlo,'DejaVu Sans Mono',consolas,'Courier New',monospace\"><span style=\"font-weight: bold\"> Total params: </span><span style=\"color: #00af00; text-decoration-color: #00af00\">3,713</span> (14.50 KB)\n",
              "</pre>\n"
            ]
          },
          "metadata": {}
        },
        {
          "output_type": "display_data",
          "data": {
            "text/plain": [
              "\u001b[1m Trainable params: \u001b[0m\u001b[38;5;34m3,713\u001b[0m (14.50 KB)\n"
            ],
            "text/html": [
              "<pre style=\"white-space:pre;overflow-x:auto;line-height:normal;font-family:Menlo,'DejaVu Sans Mono',consolas,'Courier New',monospace\"><span style=\"font-weight: bold\"> Trainable params: </span><span style=\"color: #00af00; text-decoration-color: #00af00\">3,713</span> (14.50 KB)\n",
              "</pre>\n"
            ]
          },
          "metadata": {}
        },
        {
          "output_type": "display_data",
          "data": {
            "text/plain": [
              "\u001b[1m Non-trainable params: \u001b[0m\u001b[38;5;34m0\u001b[0m (0.00 B)\n"
            ],
            "text/html": [
              "<pre style=\"white-space:pre;overflow-x:auto;line-height:normal;font-family:Menlo,'DejaVu Sans Mono',consolas,'Courier New',monospace\"><span style=\"font-weight: bold\"> Non-trainable params: </span><span style=\"color: #00af00; text-decoration-color: #00af00\">0</span> (0.00 B)\n",
              "</pre>\n"
            ]
          },
          "metadata": {}
        }
      ]
    },
    {
      "cell_type": "code",
      "source": [
        "from tensorflow.keras.callbacks import EarlyStopping\n",
        "\n",
        "# توقف زودهنگام اگر بهبودی دیده نشد\n",
        "early_stop = EarlyStopping(monitor='val_recall', patience=3, mode='max')\n",
        "\n",
        "history = model.fit(\n",
        "    X_train_scaled, y_train,\n",
        "    validation_split=0.2,\n",
        "    epochs=20,\n",
        "    batch_size=256,\n",
        "    callbacks=[early_stop],\n",
        "    class_weight={0: 1, 1: 5}  # وزن بیشتر برای کلاس تقلبی\n",
        ")"
      ],
      "metadata": {
        "colab": {
          "base_uri": "https://localhost:8080/"
        },
        "id": "wrSDK6LEaNLR",
        "outputId": "6afe65da-93da-4cbd-ecac-5b0c239720c2"
      },
      "execution_count": 51,
      "outputs": [
        {
          "output_type": "stream",
          "name": "stdout",
          "text": [
            "Epoch 1/20\n",
            "\u001b[1m950/950\u001b[0m \u001b[32m━━━━━━━━━━━━━━━━━━━━\u001b[0m\u001b[37m\u001b[0m \u001b[1m8s\u001b[0m 7ms/step - Recall: 0.9579 - loss: 1.0477 - val_Recall: 0.9256 - val_loss: 0.4366\n",
            "Epoch 2/20\n",
            "\u001b[1m  1/950\u001b[0m \u001b[37m━━━━━━━━━━━━━━━━━━━━\u001b[0m \u001b[1m3:00\u001b[0m 190ms/step - Recall: 0.9174 - loss: 0.8770"
          ]
        },
        {
          "output_type": "stream",
          "name": "stderr",
          "text": [
            "/usr/local/lib/python3.11/dist-packages/keras/src/callbacks/early_stopping.py:153: UserWarning: Early stopping conditioned on metric `val_recall` which is not available. Available metrics are: Recall,loss,val_Recall,val_loss\n",
            "  current = self.get_monitor_value(logs)\n"
          ]
        },
        {
          "output_type": "stream",
          "name": "stdout",
          "text": [
            "\u001b[1m950/950\u001b[0m \u001b[32m━━━━━━━━━━━━━━━━━━━━\u001b[0m\u001b[37m\u001b[0m \u001b[1m7s\u001b[0m 7ms/step - Recall: 0.9407 - loss: 0.7644 - val_Recall: 0.9396 - val_loss: 0.4343\n",
            "Epoch 3/20\n",
            "\u001b[1m950/950\u001b[0m \u001b[32m━━━━━━━━━━━━━━━━━━━━\u001b[0m\u001b[37m\u001b[0m \u001b[1m10s\u001b[0m 8ms/step - Recall: 0.9402 - loss: 0.7328 - val_Recall: 0.9440 - val_loss: 0.4300\n",
            "Epoch 4/20\n",
            "\u001b[1m950/950\u001b[0m \u001b[32m━━━━━━━━━━━━━━━━━━━━\u001b[0m\u001b[37m\u001b[0m \u001b[1m5s\u001b[0m 6ms/step - Recall: 0.9371 - loss: 0.7162 - val_Recall: 0.9498 - val_loss: 0.4392\n",
            "Epoch 5/20\n",
            "\u001b[1m950/950\u001b[0m \u001b[32m━━━━━━━━━━━━━━━━━━━━\u001b[0m\u001b[37m\u001b[0m \u001b[1m3s\u001b[0m 3ms/step - Recall: 0.9348 - loss: 0.7017 - val_Recall: 0.9435 - val_loss: 0.4185\n",
            "Epoch 6/20\n",
            "\u001b[1m950/950\u001b[0m \u001b[32m━━━━━━━━━━━━━━━━━━━━\u001b[0m\u001b[37m\u001b[0m \u001b[1m5s\u001b[0m 3ms/step - Recall: 0.9325 - loss: 0.6890 - val_Recall: 0.9519 - val_loss: 0.4363\n",
            "Epoch 7/20\n",
            "\u001b[1m950/950\u001b[0m \u001b[32m━━━━━━━━━━━━━━━━━━━━\u001b[0m\u001b[37m\u001b[0m \u001b[1m3s\u001b[0m 3ms/step - Recall: 0.9316 - loss: 0.6820 - val_Recall: 0.9537 - val_loss: 0.4322\n",
            "Epoch 8/20\n",
            "\u001b[1m950/950\u001b[0m \u001b[32m━━━━━━━━━━━━━━━━━━━━\u001b[0m\u001b[37m\u001b[0m \u001b[1m6s\u001b[0m 4ms/step - Recall: 0.9329 - loss: 0.6791 - val_Recall: 0.9492 - val_loss: 0.4174\n",
            "Epoch 9/20\n",
            "\u001b[1m950/950\u001b[0m \u001b[32m━━━━━━━━━━━━━━━━━━━━\u001b[0m\u001b[37m\u001b[0m \u001b[1m4s\u001b[0m 3ms/step - Recall: 0.9322 - loss: 0.6748 - val_Recall: 0.9499 - val_loss: 0.4153\n",
            "Epoch 10/20\n",
            "\u001b[1m950/950\u001b[0m \u001b[32m━━━━━━━━━━━━━━━━━━━━\u001b[0m\u001b[37m\u001b[0m \u001b[1m5s\u001b[0m 3ms/step - Recall: 0.9329 - loss: 0.6702 - val_Recall: 0.9483 - val_loss: 0.4080\n",
            "Epoch 11/20\n",
            "\u001b[1m950/950\u001b[0m \u001b[32m━━━━━━━━━━━━━━━━━━━━\u001b[0m\u001b[37m\u001b[0m \u001b[1m4s\u001b[0m 4ms/step - Recall: 0.9329 - loss: 0.6648 - val_Recall: 0.9480 - val_loss: 0.4050\n",
            "Epoch 12/20\n",
            "\u001b[1m950/950\u001b[0m \u001b[32m━━━━━━━━━━━━━━━━━━━━\u001b[0m\u001b[37m\u001b[0m \u001b[1m3s\u001b[0m 3ms/step - Recall: 0.9322 - loss: 0.6630 - val_Recall: 0.9405 - val_loss: 0.3871\n",
            "Epoch 13/20\n",
            "\u001b[1m950/950\u001b[0m \u001b[32m━━━━━━━━━━━━━━━━━━━━\u001b[0m\u001b[37m\u001b[0m \u001b[1m3s\u001b[0m 3ms/step - Recall: 0.9314 - loss: 0.6578 - val_Recall: 0.9406 - val_loss: 0.3872\n",
            "Epoch 14/20\n",
            "\u001b[1m950/950\u001b[0m \u001b[32m━━━━━━━━━━━━━━━━━━━━\u001b[0m\u001b[37m\u001b[0m \u001b[1m6s\u001b[0m 4ms/step - Recall: 0.9323 - loss: 0.6551 - val_Recall: 0.9424 - val_loss: 0.3914\n",
            "Epoch 15/20\n",
            "\u001b[1m950/950\u001b[0m \u001b[32m━━━━━━━━━━━━━━━━━━━━\u001b[0m\u001b[37m\u001b[0m \u001b[1m5s\u001b[0m 3ms/step - Recall: 0.9332 - loss: 0.6474 - val_Recall: 0.9397 - val_loss: 0.3886\n",
            "Epoch 16/20\n",
            "\u001b[1m950/950\u001b[0m \u001b[32m━━━━━━━━━━━━━━━━━━━━\u001b[0m\u001b[37m\u001b[0m \u001b[1m5s\u001b[0m 3ms/step - Recall: 0.9310 - loss: 0.6501 - val_Recall: 0.9352 - val_loss: 0.3736\n",
            "Epoch 17/20\n",
            "\u001b[1m950/950\u001b[0m \u001b[32m━━━━━━━━━━━━━━━━━━━━\u001b[0m\u001b[37m\u001b[0m \u001b[1m6s\u001b[0m 4ms/step - Recall: 0.9330 - loss: 0.6464 - val_Recall: 0.9408 - val_loss: 0.3835\n",
            "Epoch 18/20\n",
            "\u001b[1m950/950\u001b[0m \u001b[32m━━━━━━━━━━━━━━━━━━━━\u001b[0m\u001b[37m\u001b[0m \u001b[1m3s\u001b[0m 3ms/step - Recall: 0.9321 - loss: 0.6460 - val_Recall: 0.9365 - val_loss: 0.3727\n",
            "Epoch 19/20\n",
            "\u001b[1m950/950\u001b[0m \u001b[32m━━━━━━━━━━━━━━━━━━━━\u001b[0m\u001b[37m\u001b[0m \u001b[1m3s\u001b[0m 3ms/step - Recall: 0.9319 - loss: 0.6432 - val_Recall: 0.9418 - val_loss: 0.3883\n",
            "Epoch 20/20\n",
            "\u001b[1m950/950\u001b[0m \u001b[32m━━━━━━━━━━━━━━━━━━━━\u001b[0m\u001b[37m\u001b[0m \u001b[1m5s\u001b[0m 3ms/step - Recall: 0.9323 - loss: 0.6440 - val_Recall: 0.9323 - val_loss: 0.3664\n"
          ]
        }
      ]
    },
    {
      "cell_type": "code",
      "source": [
        "# پیش‌بینی روی داده آزمون\n",
        "y_proba_nn = model.predict(X_test_scaled)\n",
        "y_pred_nn = (y_proba_nn > 0.5).astype(int)\n",
        "\n",
        "# گزارش عملکرد\n",
        "print(classification_report(y_test, y_pred_nn))"
      ],
      "metadata": {
        "colab": {
          "base_uri": "https://localhost:8080/"
        },
        "id": "tURgtmb2adB2",
        "outputId": "a56b2104-a69a-40e8-f5a7-a4e5291f4827"
      },
      "execution_count": 52,
      "outputs": [
        {
          "output_type": "stream",
          "name": "stdout",
          "text": [
            "\u001b[1m2374/2374\u001b[0m \u001b[32m━━━━━━━━━━━━━━━━━━━━\u001b[0m\u001b[37m\u001b[0m \u001b[1m3s\u001b[0m 1ms/step\n",
            "              precision    recall  f1-score   support\n",
            "\n",
            "           0       0.92      0.73      0.82     38055\n",
            "           1       0.78      0.93      0.85     37910\n",
            "\n",
            "    accuracy                           0.83     75965\n",
            "   macro avg       0.85      0.83      0.83     75965\n",
            "weighted avg       0.85      0.83      0.83     75965\n",
            "\n"
          ]
        }
      ]
    },
    {
      "cell_type": "code",
      "source": [
        "model.save('nn_fraud_model.h5')"
      ],
      "metadata": {
        "colab": {
          "base_uri": "https://localhost:8080/"
        },
        "id": "wrztUt3Oahp6",
        "outputId": "836f00a9-ed6c-468e-ba25-a57e140d50bd"
      },
      "execution_count": 37,
      "outputs": [
        {
          "output_type": "stream",
          "name": "stderr",
          "text": [
            "WARNING:absl:You are saving your model as an HDF5 file via `model.save()` or `keras.saving.save_model(model)`. This file format is considered legacy. We recommend using instead the native Keras format, e.g. `model.save('my_model.keras')` or `keras.saving.save_model(model, 'my_model.keras')`. \n"
          ]
        }
      ]
    }
  ]
}